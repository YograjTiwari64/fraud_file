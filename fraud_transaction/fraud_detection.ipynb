{
 "cells": [
  {
   "cell_type": "code",
   "execution_count": 106,
   "id": "09fa99ee-a8ea-43c8-9e0a-2b099b61a366",
   "metadata": {},
   "outputs": [],
   "source": [
    "import pandas as pd\n",
    "import numpy as np\n",
    "import sklearn \n",
    "import seaborn as sns\n",
    "import matplotlib.pyplot as plt\n",
    "from sklearn.model_selection import train_test_split\n",
    "from sklearn.preprocessing import StandardScaler\n",
    "from sklearn.linear_model import LogisticRegression\n",
    "from sklearn.tree import DecisionTreeClassifier\n",
    "from sklearn.metrics import accuracy_score\n",
    "from sklearn.model_selection import cross_val_score\n"
   ]
  },
  {
   "cell_type": "code",
   "execution_count": 107,
   "id": "a02ea306-9c0f-443b-a8b6-7aa8b65a1d58",
   "metadata": {},
   "outputs": [
    {
     "data": {
      "text/html": [
       "<div>\n",
       "<style scoped>\n",
       "    .dataframe tbody tr th:only-of-type {\n",
       "        vertical-align: middle;\n",
       "    }\n",
       "\n",
       "    .dataframe tbody tr th {\n",
       "        vertical-align: top;\n",
       "    }\n",
       "\n",
       "    .dataframe thead th {\n",
       "        text-align: right;\n",
       "    }\n",
       "</style>\n",
       "<table border=\"1\" class=\"dataframe\">\n",
       "  <thead>\n",
       "    <tr style=\"text-align: right;\">\n",
       "      <th></th>\n",
       "      <th>step</th>\n",
       "      <th>type</th>\n",
       "      <th>amount</th>\n",
       "      <th>nameOrig</th>\n",
       "      <th>oldbalanceOrg</th>\n",
       "      <th>newbalanceOrig</th>\n",
       "      <th>nameDest</th>\n",
       "      <th>oldbalanceDest</th>\n",
       "      <th>newbalanceDest</th>\n",
       "      <th>isFraud</th>\n",
       "      <th>isFlaggedFraud</th>\n",
       "    </tr>\n",
       "  </thead>\n",
       "  <tbody>\n",
       "    <tr>\n",
       "      <th>0</th>\n",
       "      <td>1</td>\n",
       "      <td>PAYMENT</td>\n",
       "      <td>9839.64</td>\n",
       "      <td>C1231006815</td>\n",
       "      <td>170136.0</td>\n",
       "      <td>160296.36</td>\n",
       "      <td>M1979787155</td>\n",
       "      <td>0.0</td>\n",
       "      <td>0.0</td>\n",
       "      <td>0</td>\n",
       "      <td>0</td>\n",
       "    </tr>\n",
       "    <tr>\n",
       "      <th>1</th>\n",
       "      <td>1</td>\n",
       "      <td>PAYMENT</td>\n",
       "      <td>1864.28</td>\n",
       "      <td>C1666544295</td>\n",
       "      <td>21249.0</td>\n",
       "      <td>19384.72</td>\n",
       "      <td>M2044282225</td>\n",
       "      <td>0.0</td>\n",
       "      <td>0.0</td>\n",
       "      <td>0</td>\n",
       "      <td>0</td>\n",
       "    </tr>\n",
       "    <tr>\n",
       "      <th>2</th>\n",
       "      <td>1</td>\n",
       "      <td>TRANSFER</td>\n",
       "      <td>181.00</td>\n",
       "      <td>C1305486145</td>\n",
       "      <td>181.0</td>\n",
       "      <td>0.00</td>\n",
       "      <td>C553264065</td>\n",
       "      <td>0.0</td>\n",
       "      <td>0.0</td>\n",
       "      <td>1</td>\n",
       "      <td>0</td>\n",
       "    </tr>\n",
       "    <tr>\n",
       "      <th>3</th>\n",
       "      <td>1</td>\n",
       "      <td>CASH_OUT</td>\n",
       "      <td>181.00</td>\n",
       "      <td>C840083671</td>\n",
       "      <td>181.0</td>\n",
       "      <td>0.00</td>\n",
       "      <td>C38997010</td>\n",
       "      <td>21182.0</td>\n",
       "      <td>0.0</td>\n",
       "      <td>1</td>\n",
       "      <td>0</td>\n",
       "    </tr>\n",
       "    <tr>\n",
       "      <th>4</th>\n",
       "      <td>1</td>\n",
       "      <td>PAYMENT</td>\n",
       "      <td>11668.14</td>\n",
       "      <td>C2048537720</td>\n",
       "      <td>41554.0</td>\n",
       "      <td>29885.86</td>\n",
       "      <td>M1230701703</td>\n",
       "      <td>0.0</td>\n",
       "      <td>0.0</td>\n",
       "      <td>0</td>\n",
       "      <td>0</td>\n",
       "    </tr>\n",
       "  </tbody>\n",
       "</table>\n",
       "</div>"
      ],
      "text/plain": [
       "   step      type    amount     nameOrig  oldbalanceOrg  newbalanceOrig  \\\n",
       "0     1   PAYMENT   9839.64  C1231006815       170136.0       160296.36   \n",
       "1     1   PAYMENT   1864.28  C1666544295        21249.0        19384.72   \n",
       "2     1  TRANSFER    181.00  C1305486145          181.0            0.00   \n",
       "3     1  CASH_OUT    181.00   C840083671          181.0            0.00   \n",
       "4     1   PAYMENT  11668.14  C2048537720        41554.0        29885.86   \n",
       "\n",
       "      nameDest  oldbalanceDest  newbalanceDest  isFraud  isFlaggedFraud  \n",
       "0  M1979787155             0.0             0.0        0               0  \n",
       "1  M2044282225             0.0             0.0        0               0  \n",
       "2   C553264065             0.0             0.0        1               0  \n",
       "3    C38997010         21182.0             0.0        1               0  \n",
       "4  M1230701703             0.0             0.0        0               0  "
      ]
     },
     "execution_count": 107,
     "metadata": {},
     "output_type": "execute_result"
    }
   ],
   "source": [
    "df =pd.read_csv('Fraud.csv')\n",
    "df.head(5)"
   ]
  },
  {
   "cell_type": "code",
   "execution_count": 108,
   "id": "b009c85d-80df-43dd-ab87-f9f600b213f1",
   "metadata": {},
   "outputs": [
    {
     "name": "stdout",
     "output_type": "stream",
     "text": [
      "<class 'pandas.core.frame.DataFrame'>\n",
      "RangeIndex: 6362620 entries, 0 to 6362619\n",
      "Data columns (total 11 columns):\n",
      " #   Column          Dtype  \n",
      "---  ------          -----  \n",
      " 0   step            int64  \n",
      " 1   type            object \n",
      " 2   amount          float64\n",
      " 3   nameOrig        object \n",
      " 4   oldbalanceOrg   float64\n",
      " 5   newbalanceOrig  float64\n",
      " 6   nameDest        object \n",
      " 7   oldbalanceDest  float64\n",
      " 8   newbalanceDest  float64\n",
      " 9   isFraud         int64  \n",
      " 10  isFlaggedFraud  int64  \n",
      "dtypes: float64(5), int64(3), object(3)\n",
      "memory usage: 534.0+ MB\n"
     ]
    }
   ],
   "source": [
    "df.info()"
   ]
  },
  {
   "cell_type": "code",
   "execution_count": 109,
   "id": "9e420c16-3371-49d6-aea7-2026b1b41c78",
   "metadata": {},
   "outputs": [
    {
     "data": {
      "text/plain": [
       "step              0\n",
       "type              0\n",
       "amount            0\n",
       "nameOrig          0\n",
       "oldbalanceOrg     0\n",
       "newbalanceOrig    0\n",
       "nameDest          0\n",
       "oldbalanceDest    0\n",
       "newbalanceDest    0\n",
       "isFraud           0\n",
       "isFlaggedFraud    0\n",
       "dtype: int64"
      ]
     },
     "execution_count": 109,
     "metadata": {},
     "output_type": "execute_result"
    }
   ],
   "source": [
    "df.isnull().sum()"
   ]
  },
  {
   "cell_type": "code",
   "execution_count": 110,
   "id": "d767fc3d-87d1-4394-a78a-3c08c6af2a71",
   "metadata": {},
   "outputs": [
    {
     "data": {
      "text/plain": [
       "type\n",
       "CASH_OUT    2237500\n",
       "PAYMENT     2151495\n",
       "CASH_IN     1399284\n",
       "TRANSFER     532909\n",
       "DEBIT         41432\n",
       "Name: count, dtype: int64"
      ]
     },
     "execution_count": 110,
     "metadata": {},
     "output_type": "execute_result"
    }
   ],
   "source": [
    "# Exploring transaction type\n",
    "df.type.value_counts()"
   ]
  },
  {
   "cell_type": "code",
   "execution_count": 111,
   "id": "27bdfec6-cbef-4b50-ac38-074802bdecef",
   "metadata": {},
   "outputs": [],
   "source": [
    " # removing outliers in 'amount'\n",
    "from scipy import stats\n",
    "df = df[(np.abs(stats.zscore(df['amount'])) < 3)]  # removing outliers in 'amount'\n"
   ]
  },
  {
   "cell_type": "code",
   "execution_count": null,
   "id": "ef21331a-8063-4968-a6f4-3918159612e5",
   "metadata": {},
   "outputs": [],
   "source": []
  },
  {
   "cell_type": "markdown",
   "id": "e951a965-955f-491c-a34a-a67f881572c6",
   "metadata": {},
   "source": [
    "EDA: Exploratory data analysis"
   ]
  },
  {
   "cell_type": "code",
   "execution_count": 112,
   "id": "a4bb95f1-8205-4145-a68d-feed7ce2faa9",
   "metadata": {},
   "outputs": [
    {
     "data": {
      "text/plain": [
       "type\n",
       "CASH_OUT    2236639\n",
       "PAYMENT     2151495\n",
       "CASH_IN     1399284\n",
       "TRANSFER     488825\n",
       "DEBIT         41432\n",
       "Name: count, dtype: int64"
      ]
     },
     "execution_count": 112,
     "metadata": {},
     "output_type": "execute_result"
    }
   ],
   "source": [
    "# Exploring transaction type\n",
    "df.type.value_counts()"
   ]
  },
  {
   "cell_type": "code",
   "execution_count": 113,
   "id": "4417d0e9-7301-414b-8276-e7c351169399",
   "metadata": {},
   "outputs": [
    {
     "data": {
      "image/png": "[encoded data removed]",
      "text/plain": [
       "<Figure size 640x480 with 1 Axes>"
      ]
     },
     "metadata": {},
     "output_type": "display_data"
    }
   ],
   "source": [
    "type_counts = df['type'].value_counts()\n",
    "explode=[0,0,0,0.1,0.1]\n",
    "# Plot the pie chart\n",
    "plt.pie(type_counts, labels=type_counts.index,explode=explode,autopct='%1.1f%%')\n",
    "plt.title(\"Tracsaction type\")\n",
    "plt.xlabel(\"Trasaction on the basic of percentage\")\n",
    "# Show the plot\n",
    "plt.show()"
   ]
  },
  {
   "cell_type": "code",
   "execution_count": 114,
   "id": "02fa7907-24ee-4768-a0bf-fdecc2090177",
   "metadata": {},
   "outputs": [
    {
     "name": "stdout",
     "output_type": "stream",
     "text": [
      "Number of Merchants (M): 2151495\n",
      "Number of Customers (C): 4166180\n"
     ]
    }
   ],
   "source": [
    "df1 = df['nameDest'].str[0]\n",
    "\n",
    "# Count the number of Merchants ('M') and Customers ('C')\n",
    "merchant_count = df1.value_counts().get('M', 0)\n",
    "customer_count = df1.value_counts().get('C', 0)\n",
    "\n",
    "print(f\"Number of Merchants (M): {merchant_count}\")\n",
    "print(f\"Number of Customers (C): {customer_count}\")\n"
   ]
  },
  {
   "cell_type": "code",
   "execution_count": 115,
   "id": "6effe8e6-62cd-4a73-9d64-940562fa5c67",
   "metadata": {},
   "outputs": [
    {
     "data": {
      "text/plain": [
       "(6317675, 11)"
      ]
     },
     "execution_count": 115,
     "metadata": {},
     "output_type": "execute_result"
    }
   ],
   "source": [
    "df.shape"
   ]
  },
  {
   "cell_type": "code",
   "execution_count": 116,
   "id": "6120ff14-b946-4a7e-8ef0-fde7c3a1feee",
   "metadata": {},
   "outputs": [
    {
     "data": {
      "image/png": "[encoded data removed]",
      "text/plain": [
       "<Figure size 1000x600 with 1 Axes>"
      ]
     },
     "metadata": {},
     "output_type": "display_data"
    }
   ],
   "source": [
    "df['isCustomer'] = df['nameOrig'].str.startswith('C')\n",
    "df['isMerchant'] = df['nameDest'].str.startswith('M')\n",
    "\n",
    "# Count the number of customer and merchant transactions\n",
    "customer_transactions = df['isCustomer'].sum()\n",
    "merchant_transactions = df['isMerchant'].sum()\n",
    "\n",
    "# Plot the difference between customer and merchant transactions\n",
    "plt.figure(figsize=(10, 6))\n",
    "plt.bar(['Customer Transactions', 'Merchant Transactions'], [customer_transactions, merchant_transactions], \n",
    "        color=['#66c2a5', '#fc8d62'])\n",
    "plt.title('Customer vs Merchant Transactions', fontsize=14)\n",
    "plt.ylabel('Count')\n",
    "plt.show()"
   ]
  },
  {
   "cell_type": "code",
   "execution_count": 117,
   "id": "4db73087-bb36-4b19-a1ab-76f40f6f6ab8",
   "metadata": {},
   "outputs": [
    {
     "name": "stdout",
     "output_type": "stream",
     "text": [
      "Number of zeros (isFraud = 0): 6311148\n",
      "Number of ones (isFraud = 1): 6527\n"
     ]
    }
   ],
   "source": [
    "df1 = pd.DataFrame(df)\n",
    "\n",
    "# Count the number of 0's and 1's in the 'isFraud' column\n",
    "zeros = df1['isFraud'].value_counts().get(0, 0)\n",
    "ones = df1['isFraud'].value_counts().get(1, 0)\n",
    "\n",
    "print(f\"Number of zeros (isFraud = 0): {zeros}\")\n",
    "print(f\"Number of ones (isFraud = 1): {ones}\")\n"
   ]
  },
  {
   "cell_type": "code",
   "execution_count": 118,
   "id": "c75aeae6-5703-44db-9f9f-07fd8bfd9ba7",
   "metadata": {},
   "outputs": [
    {
     "data": {
      "text/html": [
       "<div>\n",
       "<style scoped>\n",
       "    .dataframe tbody tr th:only-of-type {\n",
       "        vertical-align: middle;\n",
       "    }\n",
       "\n",
       "    .dataframe tbody tr th {\n",
       "        vertical-align: top;\n",
       "    }\n",
       "\n",
       "    .dataframe thead th {\n",
       "        text-align: right;\n",
       "    }\n",
       "</style>\n",
       "<table border=\"1\" class=\"dataframe\">\n",
       "  <thead>\n",
       "    <tr style=\"text-align: right;\">\n",
       "      <th></th>\n",
       "      <th>step</th>\n",
       "      <th>type</th>\n",
       "      <th>amount</th>\n",
       "      <th>nameOrig</th>\n",
       "      <th>oldbalanceOrg</th>\n",
       "      <th>newbalanceOrig</th>\n",
       "      <th>nameDest</th>\n",
       "      <th>oldbalanceDest</th>\n",
       "      <th>newbalanceDest</th>\n",
       "      <th>isFraud</th>\n",
       "      <th>isFlaggedFraud</th>\n",
       "      <th>isCustomer</th>\n",
       "      <th>isMerchant</th>\n",
       "    </tr>\n",
       "  </thead>\n",
       "  <tbody>\n",
       "    <tr>\n",
       "      <th>0</th>\n",
       "      <td>1</td>\n",
       "      <td>PAYMENT</td>\n",
       "      <td>9839.64</td>\n",
       "      <td>C1231006815</td>\n",
       "      <td>170136.0</td>\n",
       "      <td>160296.36</td>\n",
       "      <td>M1979787155</td>\n",
       "      <td>0.0</td>\n",
       "      <td>0.0</td>\n",
       "      <td>0</td>\n",
       "      <td>0</td>\n",
       "      <td>True</td>\n",
       "      <td>True</td>\n",
       "    </tr>\n",
       "    <tr>\n",
       "      <th>1</th>\n",
       "      <td>1</td>\n",
       "      <td>PAYMENT</td>\n",
       "      <td>1864.28</td>\n",
       "      <td>C1666544295</td>\n",
       "      <td>21249.0</td>\n",
       "      <td>19384.72</td>\n",
       "      <td>M2044282225</td>\n",
       "      <td>0.0</td>\n",
       "      <td>0.0</td>\n",
       "      <td>0</td>\n",
       "      <td>0</td>\n",
       "      <td>True</td>\n",
       "      <td>True</td>\n",
       "    </tr>\n",
       "    <tr>\n",
       "      <th>2</th>\n",
       "      <td>1</td>\n",
       "      <td>TRANSFER</td>\n",
       "      <td>181.00</td>\n",
       "      <td>C1305486145</td>\n",
       "      <td>181.0</td>\n",
       "      <td>0.00</td>\n",
       "      <td>C553264065</td>\n",
       "      <td>0.0</td>\n",
       "      <td>0.0</td>\n",
       "      <td>1</td>\n",
       "      <td>0</td>\n",
       "      <td>True</td>\n",
       "      <td>False</td>\n",
       "    </tr>\n",
       "    <tr>\n",
       "      <th>3</th>\n",
       "      <td>1</td>\n",
       "      <td>CASH_OUT</td>\n",
       "      <td>181.00</td>\n",
       "      <td>C840083671</td>\n",
       "      <td>181.0</td>\n",
       "      <td>0.00</td>\n",
       "      <td>C38997010</td>\n",
       "      <td>21182.0</td>\n",
       "      <td>0.0</td>\n",
       "      <td>1</td>\n",
       "      <td>0</td>\n",
       "      <td>True</td>\n",
       "      <td>False</td>\n",
       "    </tr>\n",
       "    <tr>\n",
       "      <th>4</th>\n",
       "      <td>1</td>\n",
       "      <td>PAYMENT</td>\n",
       "      <td>11668.14</td>\n",
       "      <td>C2048537720</td>\n",
       "      <td>41554.0</td>\n",
       "      <td>29885.86</td>\n",
       "      <td>M1230701703</td>\n",
       "      <td>0.0</td>\n",
       "      <td>0.0</td>\n",
       "      <td>0</td>\n",
       "      <td>0</td>\n",
       "      <td>True</td>\n",
       "      <td>True</td>\n",
       "    </tr>\n",
       "  </tbody>\n",
       "</table>\n",
       "</div>"
      ],
      "text/plain": [
       "   step      type    amount     nameOrig  oldbalanceOrg  newbalanceOrig  \\\n",
       "0     1   PAYMENT   9839.64  C1231006815       170136.0       160296.36   \n",
       "1     1   PAYMENT   1864.28  C1666544295        21249.0        19384.72   \n",
       "2     1  TRANSFER    181.00  C1305486145          181.0            0.00   \n",
       "3     1  CASH_OUT    181.00   C840083671          181.0            0.00   \n",
       "4     1   PAYMENT  11668.14  C2048537720        41554.0        29885.86   \n",
       "\n",
       "      nameDest  oldbalanceDest  newbalanceDest  isFraud  isFlaggedFraud  \\\n",
       "0  M1979787155             0.0             0.0        0               0   \n",
       "1  M2044282225             0.0             0.0        0               0   \n",
       "2   C553264065             0.0             0.0        1               0   \n",
       "3    C38997010         21182.0             0.0        1               0   \n",
       "4  M1230701703             0.0             0.0        0               0   \n",
       "\n",
       "   isCustomer  isMerchant  \n",
       "0        True        True  \n",
       "1        True        True  \n",
       "2        True       False  \n",
       "3        True       False  \n",
       "4        True        True  "
      ]
     },
     "execution_count": 118,
     "metadata": {},
     "output_type": "execute_result"
    }
   ],
   "source": [
    "df1.head()"
   ]
  },
  {
   "cell_type": "code",
   "execution_count": 119,
   "id": "9a271413-98c4-41d1-b6cf-188a36caaa7a",
   "metadata": {},
   "outputs": [
    {
     "data": {
      "image/png": "[encoded data removed]",
      "text/plain": [
       "<Figure size 640x480 with 1 Axes>"
      ]
     },
     "metadata": {},
     "output_type": "display_data"
    }
   ],
   "source": [
    "\n",
    "df.groupby('type')['amount'].sum().plot(kind='bar', color=['#4daf4a', '#377eb8', '#ff7f00', '#984ea3'])\n",
    "plt.title('Total Transaction Amount by Type')\n",
    "plt.xlabel('Transaction Type')\n",
    "plt.ylabel('Total Amount')\n",
    "plt.show()"
   ]
  },
  {
   "cell_type": "code",
   "execution_count": 120,
   "id": "a5e42287-4ac8-4f28-8324-da789f0cdfd7",
   "metadata": {},
   "outputs": [
    {
     "data": {
      "text/html": [
       "<div>\n",
       "<style scoped>\n",
       "    .dataframe tbody tr th:only-of-type {\n",
       "        vertical-align: middle;\n",
       "    }\n",
       "\n",
       "    .dataframe tbody tr th {\n",
       "        vertical-align: top;\n",
       "    }\n",
       "\n",
       "    .dataframe thead th {\n",
       "        text-align: right;\n",
       "    }\n",
       "</style>\n",
       "<table border=\"1\" class=\"dataframe\">\n",
       "  <thead>\n",
       "    <tr style=\"text-align: right;\">\n",
       "      <th></th>\n",
       "      <th>step</th>\n",
       "      <th>type</th>\n",
       "      <th>amount</th>\n",
       "      <th>nameOrig</th>\n",
       "      <th>oldbalanceOrg</th>\n",
       "      <th>newbalanceOrig</th>\n",
       "      <th>nameDest</th>\n",
       "      <th>oldbalanceDest</th>\n",
       "      <th>newbalanceDest</th>\n",
       "      <th>isFraud</th>\n",
       "      <th>isFlaggedFraud</th>\n",
       "      <th>isCustomer</th>\n",
       "      <th>isMerchant</th>\n",
       "    </tr>\n",
       "  </thead>\n",
       "  <tbody>\n",
       "    <tr>\n",
       "      <th>0</th>\n",
       "      <td>1</td>\n",
       "      <td>PAYMENT</td>\n",
       "      <td>9839.64</td>\n",
       "      <td>C1231006815</td>\n",
       "      <td>170136.0</td>\n",
       "      <td>160296.36</td>\n",
       "      <td>M1979787155</td>\n",
       "      <td>0.0</td>\n",
       "      <td>0.0</td>\n",
       "      <td>0</td>\n",
       "      <td>0</td>\n",
       "      <td>True</td>\n",
       "      <td>True</td>\n",
       "    </tr>\n",
       "    <tr>\n",
       "      <th>1</th>\n",
       "      <td>1</td>\n",
       "      <td>PAYMENT</td>\n",
       "      <td>1864.28</td>\n",
       "      <td>C1666544295</td>\n",
       "      <td>21249.0</td>\n",
       "      <td>19384.72</td>\n",
       "      <td>M2044282225</td>\n",
       "      <td>0.0</td>\n",
       "      <td>0.0</td>\n",
       "      <td>0</td>\n",
       "      <td>0</td>\n",
       "      <td>True</td>\n",
       "      <td>True</td>\n",
       "    </tr>\n",
       "    <tr>\n",
       "      <th>2</th>\n",
       "      <td>1</td>\n",
       "      <td>TRANSFER</td>\n",
       "      <td>181.00</td>\n",
       "      <td>C1305486145</td>\n",
       "      <td>181.0</td>\n",
       "      <td>0.00</td>\n",
       "      <td>C553264065</td>\n",
       "      <td>0.0</td>\n",
       "      <td>0.0</td>\n",
       "      <td>1</td>\n",
       "      <td>0</td>\n",
       "      <td>True</td>\n",
       "      <td>False</td>\n",
       "    </tr>\n",
       "    <tr>\n",
       "      <th>3</th>\n",
       "      <td>1</td>\n",
       "      <td>CASH_OUT</td>\n",
       "      <td>181.00</td>\n",
       "      <td>C840083671</td>\n",
       "      <td>181.0</td>\n",
       "      <td>0.00</td>\n",
       "      <td>C38997010</td>\n",
       "      <td>21182.0</td>\n",
       "      <td>0.0</td>\n",
       "      <td>1</td>\n",
       "      <td>0</td>\n",
       "      <td>True</td>\n",
       "      <td>False</td>\n",
       "    </tr>\n",
       "    <tr>\n",
       "      <th>4</th>\n",
       "      <td>1</td>\n",
       "      <td>PAYMENT</td>\n",
       "      <td>11668.14</td>\n",
       "      <td>C2048537720</td>\n",
       "      <td>41554.0</td>\n",
       "      <td>29885.86</td>\n",
       "      <td>M1230701703</td>\n",
       "      <td>0.0</td>\n",
       "      <td>0.0</td>\n",
       "      <td>0</td>\n",
       "      <td>0</td>\n",
       "      <td>True</td>\n",
       "      <td>True</td>\n",
       "    </tr>\n",
       "  </tbody>\n",
       "</table>\n",
       "</div>"
      ],
      "text/plain": [
       "   step      type    amount     nameOrig  oldbalanceOrg  newbalanceOrig  \\\n",
       "0     1   PAYMENT   9839.64  C1231006815       170136.0       160296.36   \n",
       "1     1   PAYMENT   1864.28  C1666544295        21249.0        19384.72   \n",
       "2     1  TRANSFER    181.00  C1305486145          181.0            0.00   \n",
       "3     1  CASH_OUT    181.00   C840083671          181.0            0.00   \n",
       "4     1   PAYMENT  11668.14  C2048537720        41554.0        29885.86   \n",
       "\n",
       "      nameDest  oldbalanceDest  newbalanceDest  isFraud  isFlaggedFraud  \\\n",
       "0  M1979787155             0.0             0.0        0               0   \n",
       "1  M2044282225             0.0             0.0        0               0   \n",
       "2   C553264065             0.0             0.0        1               0   \n",
       "3    C38997010         21182.0             0.0        1               0   \n",
       "4  M1230701703             0.0             0.0        0               0   \n",
       "\n",
       "   isCustomer  isMerchant  \n",
       "0        True        True  \n",
       "1        True        True  \n",
       "2        True       False  \n",
       "3        True       False  \n",
       "4        True        True  "
      ]
     },
     "execution_count": 120,
     "metadata": {},
     "output_type": "execute_result"
    }
   ],
   "source": [
    "df.head(5)"
   ]
  },
  {
   "cell_type": "code",
   "execution_count": 121,
   "id": "8d565dc7-9114-404f-82ec-7083ec29089a",
   "metadata": {},
   "outputs": [
    {
     "data": {
      "image/png": "[encoded data removed]",
      "text/plain": [
       "<Figure size 1000x1000 with 2 Axes>"
      ]
     },
     "metadata": {},
     "output_type": "display_data"
    }
   ],
   "source": [
    "numeric_df = df.select_dtypes(include='number')\n",
    "\n",
    "# Generate the correlation matrix\n",
    "corr_matrix = numeric_df.corr()\n",
    "\n",
    "# Plot the heatmap\n",
    "plt.figure(figsize=(10, 10))\n",
    "sns.heatmap(data=corr_matrix, annot=True, cmap='RdBu', center=0)\n",
    "plt.title('Correlation Matrix of Numeric Features')\n",
    "plt.show()"
   ]
  },
  {
   "cell_type": "code",
   "execution_count": 122,
   "id": "2dfe51f2-74ad-4dc2-b231-f5810211c837",
   "metadata": {},
   "outputs": [],
   "source": [
    "df['log_amount'] = np.log1p(df['amount'])  # log transformation to handle skewed data\n"
   ]
  },
  {
   "cell_type": "code",
   "execution_count": 123,
   "id": "9aac759f-7e89-4946-bef6-fcba63863b0d",
   "metadata": {},
   "outputs": [],
   "source": [
    "df['balance_change'] = df['oldbalanceOrg'] - df['newbalanceOrig']\n"
   ]
  },
  {
   "cell_type": "code",
   "execution_count": 125,
   "id": "3f1a73f5-c57a-45ec-9688-0877430f1d9a",
   "metadata": {},
   "outputs": [],
   "source": [
    "X = df[['amount', 'isCustomer', 'isMerchant']]  # Add more relevant features as needed\n",
    "y = df['isFraud']  # Target variable\n"
   ]
  },
  {
   "cell_type": "code",
   "execution_count": 126,
   "id": "d70014f4-7f5a-4187-b075-df1c2dc81dc1",
   "metadata": {},
   "outputs": [],
   "source": [
    "# Import the necessary module\n",
    "from sklearn.model_selection import train_test_split\n",
    "\n",
    "# Split the data into training and testing sets\n",
    "x_train, x_test, y_train, y_test = train_test_split(X, y, test_size=0.3, random_state=42)\n"
   ]
  },
  {
   "cell_type": "code",
   "execution_count": 127,
   "id": "aec5d7c1-7aac-4f8e-bf8e-02fb9f0ace13",
   "metadata": {},
   "outputs": [
    {
     "name": "stdout",
     "output_type": "stream",
     "text": [
      "Training accuracy: 99.90 %\n",
      "Testing accuracy: 99.90 %\n"
     ]
    }
   ],
   "source": [
    "scaler = StandardScaler()\n",
    "\n",
    "# Fit the scaler on the training data\n",
    "scaler.fit(x_train)\n",
    "\n",
    "# Transform the training and testing data\n",
    "x_train_scaled = scaler.transform(x_train)\n",
    "x_test_scaled = scaler.transform(x_test) \n",
    "\n",
    "Model_LR = LogisticRegression()\n",
    "Model_LR.fit(x_train_scaled, y_train)\n",
    "y_pred_LR = Model_LR.predict(x_test_scaled)\n",
    "\n",
    "# Quick evaluation\n",
    "Train_Accuracy = Model_LR.score(x_train_scaled, y_train)\n",
    "Test_Accuracy = Model_LR.score(x_test_scaled, y_test)\n",
    "print(f'Training accuracy: {Train_Accuracy*100:.2f} %')\n",
    "print(f'Testing accuracy: {Test_Accuracy*100:.2f} %')"
   ]
  },
  {
   "cell_type": "code",
   "execution_count": 128,
   "id": "6285fffa-b862-4ded-81d7-bc4ca69221a2",
   "metadata": {},
   "outputs": [
    {
     "name": "stdout",
     "output_type": "stream",
     "text": [
      "Cross-Validation Scores: [0.99896775 0.99896775 0.99896775 0.99896775 0.99896775]\n",
      "Mean CV Score: 0.9989677485295217\n"
     ]
    }
   ],
   "source": [
    "cv_scores = cross_val_score(Model_LR, x_train_scaled, y_train, cv=5)\n",
    "print(f\"Cross-Validation Scores: {cv_scores}\")\n",
    "print(f\"Mean CV Score: {cv_scores.mean()}\")"
   ]
  },
  {
   "cell_type": "code",
   "execution_count": 129,
   "id": "2648470a-563a-4d06-b009-43256377fbb5",
   "metadata": {},
   "outputs": [
    {
     "name": "stdout",
     "output_type": "stream",
     "text": [
      "Training accuracy: 99.98 %\n",
      "Testing accuracy: 99.88 %\n"
     ]
    }
   ],
   "source": [
    "from sklearn.tree import DecisionTreeClassifier\n",
    "from sklearn.metrics import accuracy_score\n",
    "Model_DT = DecisionTreeClassifier()\n",
    "Model_DT.fit(x_train_scaled, y_train)\n",
    "y_pred_DT = Model_DT.predict(x_test_scaled)\n",
    "\n",
    "Train_Accuracy = Model_DT.score(x_train_scaled, y_train)\n",
    "Test_Accuracy = Model_DT.score(x_test_scaled, y_test)\n",
    "print(f'Training accuracy: {Train_Accuracy*100:.2f} %')\n",
    "print(f'Testing accuracy: {Test_Accuracy*100:.2f} %')"
   ]
  },
  {
   "cell_type": "code",
   "execution_count": 130,
   "id": "5d9280a7-2ef5-4c97-bf05-e30c05c53c2b",
   "metadata": {},
   "outputs": [
    {
     "name": "stdout",
     "output_type": "stream",
     "text": [
      "Training accuracy (XGBoost): 99.90 %\n",
      "Testing accuracy (XGBoost): 99.90 %\n"
     ]
    }
   ],
   "source": [
    "from xgboost import XGBClassifier\n",
    "from sklearn.metrics import accuracy_score, classification_report, confusion_matrix\n",
    "\n",
    "# Initialize the XGBoost Classifier\n",
    "Model_XGB = XGBClassifier()\n",
    "\n",
    "# Fit the model on the scaled training data\n",
    "Model_XGB.fit(x_train_scaled, y_train)\n",
    "\n",
    "# Predict on the scaled test data\n",
    "y_pred_XGB = Model_XGB.predict(x_test_scaled)\n",
    "\n",
    "# Calculate training and testing accuracy\n",
    "Train_Accuracy_XGB = Model_XGB.score(x_train_scaled, y_train)\n",
    "Test_Accuracy_XGB = Model_XGB.score(x_test_scaled, y_test)\n",
    "\n",
    "# Print training and testing accuracy\n",
    "print(f'Training accuracy (XGBoost): {Train_Accuracy_XGB*100:.2f} %')\n",
    "print(f'Testing accuracy (XGBoost): {Test_Accuracy_XGB*100:.2f} %')\n",
    "\n",
    "\n"
   ]
  },
  {
   "cell_type": "code",
   "execution_count": null,
   "id": "b7e6241b-f4f5-4239-a373-0841ee621922",
   "metadata": {},
   "outputs": [],
   "source": []
  },
  {
   "cell_type": "code",
   "execution_count": 131,
   "id": "8d4f9db9-65f4-42a3-bd7c-e78b3837722e",
   "metadata": {},
   "outputs": [
    {
     "name": "stdout",
     "output_type": "stream",
     "text": [
      "[0]\n"
     ]
    }
   ],
   "source": [
    "features = np.array([[1, 8765, 90.60]])\n",
    "print(Model_LR.predict(features))"
   ]
  },
  {
   "cell_type": "code",
   "execution_count": 132,
   "id": "804e49e7-df45-4d09-a3bb-80ad9f04ad70",
   "metadata": {},
   "outputs": [
    {
     "name": "stdout",
     "output_type": "stream",
     "text": [
      "[0]\n"
     ]
    }
   ],
   "source": [
    "features = np.array([[1, 9, 8800.10]])\n",
    "print(Model_DT.predict(features))"
   ]
  },
  {
   "cell_type": "code",
   "execution_count": 133,
   "id": "05e4dd8b-d77a-4923-b423-9a4d9f7ce7b3",
   "metadata": {},
   "outputs": [
    {
     "name": "stdout",
     "output_type": "stream",
     "text": [
      "[0]\n"
     ]
    }
   ],
   "source": [
    "features = np.array([[1, 960.60, 900.0]])\n",
    "print(Model_XGB.predict(features))"
   ]
  },
  {
   "cell_type": "code",
   "execution_count": 134,
   "id": "0f077b7e-7510-4f7b-9c35-d558e1d20d67",
   "metadata": {},
   "outputs": [],
   "source": [
    "import pickle\n",
    "\n",
    "# Save Logistic Regression model\n",
    "pickle.dump(Model_LR, open('logistic_model.pkl', 'wb'))\n",
    "\n",
    "# Save Decision Tree model\n",
    "pickle.dump(Model_DT, open('decision_tree_model.pkl', 'wb'))\n",
    "\n",
    "# Save XGBoost model\n",
    "pickle.dump(Model_XGB, open('xgboost_model.pkl', 'wb'))\n",
    "\n",
    "# Save the Standard Scaler\n",
    "pickle.dump(scaler, open('scaler.pkl', 'wb'))\n"
   ]
  },
  {
   "cell_type": "code",
   "execution_count": 135,
   "id": "c8b8c7d6-3fd7-4c63-ab40-c6c9720210ef",
   "metadata": {},
   "outputs": [
    {
     "name": "stdin",
     "output_type": "stream",
     "text": [
      "Enter transaction amount:  5000\n",
      "Is the transaction from a customer? (1 for Yes, 0 for No):  0\n",
      "Is the transaction to a merchant? (1 for Yes, 0 for No):  0\n",
      "Choose a model (LR for Logistic Regression, DT for Decision Tree, XGB for XGBoost):  LR\n"
     ]
    },
    {
     "name": "stdout",
     "output_type": "stream",
     "text": [
      "Transaction is legitimate.\n"
     ]
    },
    {
     "name": "stderr",
     "output_type": "stream",
     "text": [
      "C:\\ProgramData\\anaconda3\\Lib\\site-packages\\sklearn\\base.py:493: UserWarning: X does not have valid feature names, but StandardScaler was fitted with feature names\n",
      "  warnings.warn(\n"
     ]
    }
   ],
   "source": [
    "import numpy as np\n",
    "from sklearn.preprocessing import StandardScaler\n",
    "from sklearn.linear_model import LogisticRegression\n",
    "from sklearn.tree import DecisionTreeClassifier\n",
    "from xgboost import XGBClassifier\n",
    "import pickle\n",
    "\n",
    "# Load the models and scaler (assuming you've saved them using pickle)\n",
    "Model_LR = pickle.load(open('logistic_model.pkl', 'rb'))\n",
    "Model_DT = pickle.load(open('decision_tree_model.pkl', 'rb'))\n",
    "Model_XGB = pickle.load(open('xgboost_model.pkl', 'rb'))\n",
    "\n",
    "# Load the Standard Scaler\n",
    "scaler = pickle.load(open('scaler.pkl', 'rb'))\n",
    "\n",
    "# Define a function to make predictions using different models\n",
    "def make_prediction(model, amount, is_customer, is_merchant):\n",
    "    input_features = np.array([[amount, is_customer, is_merchant]])\n",
    "    scaled_features = scaler.transform(input_features)\n",
    "    prediction = model.predict(scaled_features)\n",
    "    \n",
    "    if prediction[0] == 1:\n",
    "        return \"Warning: Fraudulent transaction detected!\"\n",
    "    else:\n",
    "        return \"Transaction is legitimate.\"\n",
    "\n",
    "# Input transaction details (you can also use input() to collect user inputs dynamically)\n",
    "amount = float(input(\"Enter transaction amount: \"))  # e.g., 5000.0\n",
    "is_customer = int(input(\"Is the transaction from a customer? (1 for Yes, 0 for No): \"))  # 1 for Yes, 0 for No\n",
    "is_merchant = int(input(\"Is the transaction to a merchant? (1 for Yes, 0 for No): \"))  # 1 for Yes, 0 for No\n",
    "\n",
    "# Choose model for prediction (Logistic Regression, Decision Tree, XGBoost)\n",
    "model_choice = input(\"Choose a model (LR for Logistic Regression, DT for Decision Tree, XGB for XGBoost): \")\n",
    "\n",
    "# Predict using the chosen model\n",
    "if model_choice == 'LR':\n",
    "    result = make_prediction(Model_LR, amount, is_customer, is_merchant)\n",
    "elif model_choice == 'DT':\n",
    "    result = make_prediction(Model_DT, amount, is_customer, is_merchant)\n",
    "elif model_choice == 'XGB':\n",
    "    result = make_prediction(Model_XGB, amount, is_customer, is_merchant)\n",
    "else:\n",
    "    result = \"Invalid model choice. Please choose LR, DT, or XGB.\"\n",
    "\n",
    "# Display the result\n",
    "print(result)\n"
   ]
  },
  {
   "cell_type": "code",
   "execution_count": null,
   "id": "b9a544dc-f7b1-4bbc-af47-9d85e5454572",
   "metadata": {},
   "outputs": [],
   "source": []
  },
  {
   "cell_type": "code",
   "execution_count": null,
   "id": "817da4e0-d158-46e4-a199-fc2173670869",
   "metadata": {},
   "outputs": [],
   "source": []
  },
  {
   "cell_type": "code",
   "execution_count": null,
   "id": "0d9efa5b-3b7e-4fa4-848d-e87c86b82c5b",
   "metadata": {},
   "outputs": [],
   "source": []
  },
  {
   "cell_type": "code",
   "execution_count": null,
   "id": "94eff16d-9754-4f02-b960-589f19efa1ad",
   "metadata": {},
   "outputs": [],
   "source": []
  }
 ],
 "metadata": {
  "kernelspec": {
   "display_name": "Python 3 (ipykernel)",
   "language": "python",
   "name": "python3"
  },
  "language_info": {
   "codemirror_mode": {
    "name": "ipython",
    "version": 3
   },
   "file_extension": ".py",
   "mimetype": "text/x-python",
   "name": "python",
   "nbconvert_exporter": "python",
   "pygments_lexer": "ipython3",
   "version": "3.12.4"
  }
 },
 "nbformat": 4,
 "nbformat_minor": 5
}
